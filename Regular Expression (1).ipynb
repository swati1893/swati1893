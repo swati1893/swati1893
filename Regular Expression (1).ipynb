{
 "cells": [
  {
   "cell_type": "code",
   "execution_count": 1,
   "id": "b4d0b4c4-3d81-418a-848f-23acbc72b5e0",
   "metadata": {},
   "outputs": [
    {
     "name": "stdout",
     "output_type": "stream",
     "text": [
      "<class 're.Match'>\n"
     ]
    }
   ],
   "source": [
    "#Search +91-9529611675\n",
    "import re\n",
    "m=\"This is my number:+91-9529611675 with 91 as Indias' country code\"\n",
    "pat=re.compile(r\"(\\D)(\\d{2})-(\\d{10})\")\n",
    "obj1=pat.search(m)\n",
    "print(type(obj1))\n",
    "#obj1.group()\n",
    "#print(f\"country found is {obj1.group(2)}\")\n",
    "#print(f\"Your mobile number is {obj1.group(3)}\")"
   ]
  },
  {
   "cell_type": "code",
   "execution_count": 9,
   "id": "51c06c1f-5720-4a91-8fc7-108bd7314d53",
   "metadata": {},
   "outputs": [
    {
     "name": "stdout",
     "output_type": "stream",
     "text": [
      "<class 're.Match'>\n",
      "Phone number found: 022-456-7393\n",
      "Area code is:022\n",
      "Your phone number is :456-7393\n"
     ]
    }
   ],
   "source": [
    "# Check pattern as a digit inside the string\n",
    "import re    # importing regular expression pacakge to use methods inside this\n",
    "msg=\" This is my number:022-456-7393\"\n",
    "\n",
    "#step1: define the pattern\n",
    "ptrn= re.compile(r\"(\\d{3})-(\\d{3}-\\d{4})\")\n",
    "\n",
    "#step2: search the pattern inside the message\n",
    "obj=ptrn.search(msg)\n",
    "print(type(obj)) #returned object of match class \n",
    "\n",
    "#step3: use group method to see matched value from obj\n",
    "print(\"Phone number found:\",obj.group())\n",
    "\n",
    "print(f\"Area code is:{obj.group(1)}\")\n",
    "\n",
    "print(f\"Your phone number is :{obj.group(2)}\")"
   ]
  },
  {
   "cell_type": "code",
   "execution_count": 18,
   "id": "405e5d03-7aef-4fd9-a1e3-ebae21cd145e",
   "metadata": {},
   "outputs": [
    {
     "name": "stdout",
     "output_type": "stream",
     "text": [
      "Your name found as :Shivani Jadhav\n"
     ]
    }
   ],
   "source": [
    "# Check pattern as a charchters inside the string\n",
    "# Use | (pipe) to check multiple pattern\n",
    "import re\n",
    "\n",
    "msg=\" My name is Shivani Jadhav\"\n",
    "\n",
    "ptrn=re.compile(r\"(Shivani|Deepak) Jadhav\")\n",
    "obj=ptrn.search(msg)\n",
    "#print(obj)\n",
    "print(f\"Your name found as :{obj.group()}\")\n"
   ]
  },
  {
   "cell_type": "code",
   "execution_count": 22,
   "id": "65ef709e-d4bc-4c09-842b-bab34e9b0919",
   "metadata": {
    "scrolled": true
   },
   "outputs": [
    {
     "ename": "AttributeError",
     "evalue": "'NoneType' object has no attribute 'group'",
     "output_type": "error",
     "traceback": [
      "\u001b[1;31m---------------------------------------------------------------------------\u001b[0m",
      "\u001b[1;31mAttributeError\u001b[0m                            Traceback (most recent call last)",
      "Cell \u001b[1;32mIn[22], line 13\u001b[0m\n\u001b[0;32m     11\u001b[0m obj\u001b[38;5;241m=\u001b[39mptrn\u001b[38;5;241m.\u001b[39msearch(msg3)      \u001b[38;5;66;03m# check for msg2, msg2, msg3\u001b[39;00m\n\u001b[0;32m     12\u001b[0m \u001b[38;5;66;03m#print(obj)\u001b[39;00m\n\u001b[1;32m---> 13\u001b[0m \u001b[38;5;28mprint\u001b[39m(\u001b[38;5;124mf\u001b[39m\u001b[38;5;124m\"\u001b[39m\u001b[38;5;124mYour message found as :\u001b[39m\u001b[38;5;132;01m{\u001b[39;00m\u001b[43mobj\u001b[49m\u001b[38;5;241;43m.\u001b[39;49m\u001b[43mgroup\u001b[49m()\u001b[38;5;132;01m}\u001b[39;00m\u001b[38;5;124m\"\u001b[39m)\n",
      "\u001b[1;31mAttributeError\u001b[0m: 'NoneType' object has no attribute 'group'"
     ]
    }
   ],
   "source": [
    "#Check zero or one occurances in the string\n",
    "# Use ? to check this   \n",
    "import re\n",
    "\n",
    "msg1= \"My dad is Superman\"\n",
    "msg2= \"My mom is Superwoman\"\n",
    "msg3= \"My grandma is Superwowoman\"\n",
    "msg4= \"My grandpa is Supermaman\"\n",
    "\n",
    "ptrn=re.compile(r\"Super(wo)?man\")    \n",
    "obj=ptrn.search(msg3)      # check for msg2, msg2, msg3\n",
    "#print(obj)\n",
    "print(f\"Your message found as :{obj.group()}\")\n"
   ]
  },
  {
   "cell_type": "code",
   "execution_count": 63,
   "id": "6167250e-db77-4326-b597-0fbae006ba56",
   "metadata": {},
   "outputs": [
    {
     "data": {
      "text/plain": [
       "<re.Match object; span=(0, 0), match=''>"
      ]
     },
     "execution_count": 63,
     "metadata": {},
     "output_type": "execute_result"
    }
   ],
   "source": [
    "import re\n",
    "str1=\"My name is Ravi Kumar\"\n",
    "str2=\"My name is Ravi Mishra\"\n",
    "str3=\"My name is Ravi Kumar ji\"\n",
    "str4=\"My name is Ravi\"\n",
    "ptrn=re.compile(r\"(Mishra)?\")\n",
    "obj=ptrn.search(str2)\n",
    "obj"
   ]
  },
  {
   "cell_type": "code",
   "execution_count": 29,
   "id": "f39e9c53-0ee2-43e6-ad0a-be416f885f1f",
   "metadata": {},
   "outputs": [
    {
     "name": "stdout",
     "output_type": "stream",
     "text": [
      "Your message found as :Superwowowowoman\n"
     ]
    }
   ],
   "source": [
    "#Check zero or more occurances in the string\n",
    "# Use * to check this   \n",
    "import re\n",
    "\n",
    "msg1= \"My dad is Superman\"\n",
    "msg2= \"My mom is Superwoman\"\n",
    "msg3= \"My grandma is Superwowoman\"\n",
    "msg4= \"My grandpa is Superwowowowoman\"\n",
    "\n",
    "ptrn=re.compile(r\"Super(wo)*man\")    \n",
    "obj=ptrn.search(msg4)      # check for msg2, msg2, msg3\n",
    "#print(obj)\n",
    "print(f\"Your message found as :{obj.group()}\")"
   ]
  },
  {
   "cell_type": "code",
   "execution_count": 33,
   "id": "f01940f4-43d0-46a6-80a6-65a502c3bf9d",
   "metadata": {},
   "outputs": [
    {
     "name": "stdout",
     "output_type": "stream",
     "text": [
      "Your message found as :Superwowowowoman\n"
     ]
    }
   ],
   "source": [
    "#Check one or more occurances in the string\n",
    "# Use + to check this   \n",
    "import re\n",
    "\n",
    "msg1= \"My dad is Superman\"\n",
    "msg2= \"My mom is Superwoman\"\n",
    "msg3= \"My grandma is Superwowoman\"\n",
    "msg4= \"My grandpa is Superwowowowoman\"\n",
    "\n",
    "ptrn=re.compile(r\"Super(wo)+man\")    \n",
    "obj=ptrn.search(msg4)      # check for msg2, msg2, msg3\n",
    "#print(obj)\n",
    "print(f\"Your message found as :{obj.group()}\")"
   ]
  },
  {
   "cell_type": "code",
   "execution_count": 2,
   "id": "11726c40-1e89-4060-9e32-92c0922868f9",
   "metadata": {},
   "outputs": [
    {
     "name": "stdout",
     "output_type": "stream",
     "text": [
      "<class 'list'>\n"
     ]
    }
   ],
   "source": [
    "# findall function\n",
    "#check multiple occurances of same pattern in the string\n",
    "msg=\" This is my number:022-456-7393 and this is my alternate number :456-777-9090, this is my parents' number :020-234-3333, this is personal number:191-952-9611\"\n",
    "msg1=\"This is message\"\n",
    "# ptrn=re.compile(r\"\\d\\d\\d-\\d\\d\\d-\\d\\d\\d\\d\")\n",
    "ptrn=re.compile(r\"\\d{3}-\\d{3}-\\d{4}\")\n",
    "list1=ptrn.findall(msg) # no need to use group, \n",
    "print(type(list1)) #it returns a list of matched pattern not object\n",
    "#print(list1)"
   ]
  },
  {
   "cell_type": "code",
   "execution_count": 77,
   "id": "52db4088-952f-4e2a-b8a4-1fd283722f90",
   "metadata": {},
   "outputs": [
    {
     "name": "stdout",
     "output_type": "stream",
     "text": [
      "['12 people gives good', '10 people gives satisfactory', '6 people gives bad']\n"
     ]
    }
   ],
   "source": [
    "# charcter class\n",
    "msg=\"12 people gives good feedback, 10 people gives satisfactory feedback, 6 people gives bad feedback\"\n",
    "ptrn=re.compile(r\"\\d+\\s[a-z]*\\s[a-z]*\\s[a-z]*\")\n",
    "list1=ptrn.findall(msg)\n",
    "print(list1)"
   ]
  },
  {
   "cell_type": "code",
   "execution_count": 8,
   "id": "154e7ab2-2b6b-443d-be4d-60b86849840a",
   "metadata": {},
   "outputs": [
    {
     "name": "stdout",
     "output_type": "stream",
     "text": [
      "['— Peter Drucker', '— Theodore Roosevelt', '— Winston Churchill', '— C.S. Lewis']\n"
     ]
    }
   ],
   "source": [
    "import re\n",
    "msg='''\"The best way to predict the future is to create it.\" — Peter Drucker\n",
    "\"Believe you can and you're halfway there.\" — Theodore Roosevelt\n",
    "\"It does not matter how slowly you go as long as you do not stop.\" — Confucius\n",
    "\"Success is not final, failure is not fatal: It is the courage to continue that counts.\" — Winston Churchill\n",
    "\"You are never too old to set another goal or to dream a new dream.\" — C.S. Lewis'''\n",
    "ptrn_msg=re.compile(r\"\\W\\s[A-Z]+\\W*[A-Z]*\\W*[a-z]*\\s[A-Z][a-z]+\")\n",
    "list_author=ptrn_msg.findall(msg)\n",
    "print(list_author)"
   ]
  },
  {
   "cell_type": "code",
   "execution_count": 5,
   "id": "b284268c-aa58-497f-b419-295bbbbbbceb",
   "metadata": {},
   "outputs": [
    {
     "name": "stdout",
     "output_type": "stream",
     "text": [
      "['123', '67', '33']\n",
      "Total number of people in show 223\n"
     ]
    }
   ],
   "source": [
    "import re\n",
    "msg=\"123 pipers are piping,67 dumer playing on floor,33 dancers dancing on floor\"\n",
    "ptrn=re.compile(r\"\\d+\")\n",
    "list1=ptrn.findall(msg)\n",
    "print(list1)\n",
    "sum=0\n",
    "for i in list1:\n",
    "    sum=sum+int(i)   # '123'===> 123\n",
    "\n",
    "print(f\"Total number of people in show\",sum)\n",
    "    "
   ]
  },
  {
   "cell_type": "code",
   "execution_count": 2,
   "id": "cd5727b4-4fe2-4b7c-ba85-48ced56ab6b4",
   "metadata": {},
   "outputs": [
    {
     "name": "stdout",
     "output_type": "stream",
     "text": [
      "['31', '35', '40']\n",
      "['Ravi', 'Kishor', 'Kirti']\n",
      "this is info dictionary : {'Ravi': '31', 'Kishor': '35', 'Kirti': '40'}\n"
     ]
    }
   ],
   "source": [
    "import re\n",
    "msg='''Ravi is 31 years old\n",
    "Kishor is 35 years old\n",
    "Kirti is 40 years old'''\n",
    "\n",
    "age_ptrn=re.compile(r\"\\d+\")\n",
    "name_ptrn=re.compile(r\"[A-Z][a-z]+\")\n",
    "\n",
    "age=age_ptrn.findall(msg)\n",
    "name=name_ptrn.findall(msg)\n",
    "\n",
    "print(age)\n",
    "print(name)\n",
    "\n",
    "# we can create disctionary from this list\n",
    "# i index for name, x index for age\n",
    "info={}\n",
    "x=0\n",
    "for i in name: # i=kirti  x=40\n",
    "    info[i]=age[x] #dic[key]=val  ===> info[name]=age  ===>  info[i]=age[x]\n",
    "    x=x+1\n",
    "\n",
    "print(\"this is info dictionary :\",info)\n",
    "\n"
   ]
  },
  {
   "cell_type": "code",
   "execution_count": 3,
   "id": "42c78f1c-44ee-43ef-8db3-da41a39ec00c",
   "metadata": {},
   "outputs": [
    {
     "data": {
      "text/plain": [
       "{'Name': ['Ravi', 'Kishor', 'Kirti'], 'Age': ['31', '35', '40']}"
      ]
     },
     "execution_count": 3,
     "metadata": {},
     "output_type": "execute_result"
    }
   ],
   "source": [
    "dic={\"Name\":name,\"Age\":age}\n",
    "dic"
   ]
  },
  {
   "cell_type": "code",
   "execution_count": 4,
   "id": "3ef66d95-0bcf-4795-bc84-5d740b66704f",
   "metadata": {
    "scrolled": true
   },
   "outputs": [
    {
     "data": {
      "text/html": [
       "<div>\n",
       "<style scoped>\n",
       "    .dataframe tbody tr th:only-of-type {\n",
       "        vertical-align: middle;\n",
       "    }\n",
       "\n",
       "    .dataframe tbody tr th {\n",
       "        vertical-align: top;\n",
       "    }\n",
       "\n",
       "    .dataframe thead th {\n",
       "        text-align: right;\n",
       "    }\n",
       "</style>\n",
       "<table border=\"1\" class=\"dataframe\">\n",
       "  <thead>\n",
       "    <tr style=\"text-align: right;\">\n",
       "      <th></th>\n",
       "      <th>Name</th>\n",
       "      <th>Age</th>\n",
       "    </tr>\n",
       "  </thead>\n",
       "  <tbody>\n",
       "    <tr>\n",
       "      <th>0</th>\n",
       "      <td>Ravi</td>\n",
       "      <td>31</td>\n",
       "    </tr>\n",
       "    <tr>\n",
       "      <th>1</th>\n",
       "      <td>Kishor</td>\n",
       "      <td>35</td>\n",
       "    </tr>\n",
       "    <tr>\n",
       "      <th>2</th>\n",
       "      <td>Kirti</td>\n",
       "      <td>40</td>\n",
       "    </tr>\n",
       "  </tbody>\n",
       "</table>\n",
       "</div>"
      ],
      "text/plain": [
       "     Name Age\n",
       "0    Ravi  31\n",
       "1  Kishor  35\n",
       "2   Kirti  40"
      ]
     },
     "execution_count": 4,
     "metadata": {},
     "output_type": "execute_result"
    }
   ],
   "source": [
    "import pandas as pd\n",
    "df = pd.DataFrame(dic)\n",
    "df"
   ]
  },
  {
   "cell_type": "code",
   "execution_count": 83,
   "id": "6479bd40-0299-4b62-9232-706fe8bb4eb1",
   "metadata": {},
   "outputs": [],
   "source": [
    "df.to_csv(\"Info.csv\")"
   ]
  },
  {
   "cell_type": "code",
   "execution_count": null,
   "id": "935b0217-f885-4b0a-a357-00450722342f",
   "metadata": {},
   "outputs": [],
   "source": []
  }
 ],
 "metadata": {
  "kernelspec": {
   "display_name": "Python 3 (ipykernel)",
   "language": "python",
   "name": "python3"
  },
  "language_info": {
   "codemirror_mode": {
    "name": "ipython",
    "version": 3
   },
   "file_extension": ".py",
   "mimetype": "text/x-python",
   "name": "python",
   "nbconvert_exporter": "python",
   "pygments_lexer": "ipython3",
   "version": "3.12.4"
  }
 },
 "nbformat": 4,
 "nbformat_minor": 5
}
